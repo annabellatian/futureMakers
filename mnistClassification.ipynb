{
  "nbformat": 4,
  "nbformat_minor": 0,
  "metadata": {
    "colab": {
      "name": "mnistClassification.ipynb",
      "provenance": [],
      "authorship_tag": "ABX9TyNdiinpnE2XYwVdCIhYylOH",
      "include_colab_link": true
    },
    "kernelspec": {
      "name": "python3",
      "display_name": "Python 3"
    },
    "language_info": {
      "name": "python"
    }
  },
  "cells": [
    {
      "cell_type": "markdown",
      "metadata": {
        "id": "view-in-github",
        "colab_type": "text"
      },
      "source": [
        "<a href=\"https://colab.research.google.com/github/annabellatian/mitFuturemakers/blob/main/mnistClassification.ipynb\" target=\"_parent\"><img src=\"https://colab.research.google.com/assets/colab-badge.svg\" alt=\"Open In Colab\"/></a>"
      ]
    },
    {
      "cell_type": "code",
      "metadata": {
        "id": "a95zNeWDqWK8"
      },
      "source": [
        "import numpy as np # linear algebra\n",
        "import pandas as pd # data processing, CSV file I/O (e.g. pd.read_csv)\n",
        "import seaborn as sns\n",
        "import matplotlib.pyplot as plt\n",
        "import os\n",
        "import tensorflow as tf\n",
        "from sklearn.metrics import confusion_matrix, precision_score, recall_score, f1_score, cohen_kappa_score\n",
        "from sklearn.metrics import confusion_matrix\n",
        "import itertools\n",
        "from keras.utils.np_utils import to_categorical # convert to one-hot-encoding\n",
        "from keras.models import Sequential\n",
        "from keras.layers import Dense, Dropout, Flatten, Conv2D, MaxPool2D, BatchNormalization\n",
        "from keras.optimizers import RMSprop,Adam\n",
        "from keras.preprocessing.image import ImageDataGenerator\n",
        "from keras.callbacks import ReduceLROnPlateau\n",
        "from keras.datasets import mnist\n",
        "from keras.optimizers import SGD"
      ],
      "execution_count": 93,
      "outputs": []
    },
    {
      "cell_type": "code",
      "metadata": {
        "colab": {
          "base_uri": "https://localhost:8080/"
        },
        "id": "l6JEIaPnqiGS",
        "outputId": "00fd8470-7623-4c8a-cfe1-603e6155ba78"
      },
      "source": [
        "# Load dataset\n",
        "(X_train, y_train), (X_test, y_test) = mnist.load_data()\n",
        "\n",
        "print(X_train.shape, y_train.shape)\n",
        "print(X_test.shape, y_test.shape)"
      ],
      "execution_count": 94,
      "outputs": [
        {
          "output_type": "stream",
          "text": [
            "(60000, 28, 28) (60000,)\n",
            "(10000, 28, 28) (10000,)\n"
          ],
          "name": "stdout"
        }
      ]
    },
    {
      "cell_type": "code",
      "metadata": {
        "colab": {
          "base_uri": "https://localhost:8080/"
        },
        "id": "wjFe9SO5rxSM",
        "outputId": "4dd38215-44ea-45a9-ba3c-3fa8a6a05d59"
      },
      "source": [
        "# Normalize the data\n",
        "X_train = X_train / 255.0\n",
        "test = test / 255.0\n",
        "print(\"x_train shape: \",X_train.shape)\n",
        "print(\"test shape: \",test.shape)"
      ],
      "execution_count": 95,
      "outputs": [
        {
          "output_type": "stream",
          "text": [
            "x_train shape:  (60000, 28, 28)\n",
            "test shape:  (28000, 28, 28, 1)\n"
          ],
          "name": "stdout"
        }
      ]
    },
    {
      "cell_type": "code",
      "metadata": {
        "colab": {
          "base_uri": "https://localhost:8080/"
        },
        "id": "nYetq-GDrx18",
        "outputId": "166cb2fa-df4a-4f11-b96f-54a0fdf409ec"
      },
      "source": [
        "# Reshape\n",
        "X_train = X_train.reshape((X_train.shape[0], 28, 28, 1))\n",
        "X_test = X_test.reshape((X_test.shape[0], 28, 28, 1))\n",
        "\n",
        "print(X_train.shape, X_test.shape)"
      ],
      "execution_count": 96,
      "outputs": [
        {
          "output_type": "stream",
          "text": [
            "(60000, 28, 28, 1) (10000, 28, 28, 1)\n"
          ],
          "name": "stdout"
        }
      ]
    },
    {
      "cell_type": "code",
      "metadata": {
        "colab": {
          "base_uri": "https://localhost:8080/"
        },
        "id": "mUBMFSRqrzyK",
        "outputId": "9f8d4e02-033c-494b-b350-2d07777c9a1d"
      },
      "source": [
        "# Label Encoding \n",
        "y_train = to_categorical(y_train)\n",
        "y_test = to_categorical(y_test)\n",
        "\n",
        "print(y_train.shape, y_test.shape)"
      ],
      "execution_count": 97,
      "outputs": [
        {
          "output_type": "stream",
          "text": [
            "(60000, 10) (10000, 10)\n"
          ],
          "name": "stdout"
        }
      ]
    },
    {
      "cell_type": "code",
      "metadata": {
        "colab": {
          "base_uri": "https://localhost:8080/",
          "height": 265
        },
        "id": "gPbChmqXr6Ud",
        "outputId": "0f73a0bc-9c7d-4336-eb14-f169de048289"
      },
      "source": [
        "# Some examples\n",
        "plt.imshow(X_train[2][:,:,0],cmap='gray')\n",
        "plt.show()"
      ],
      "execution_count": 98,
      "outputs": [
        {
          "output_type": "display_data",
          "data": {
            "image/png": "[encoded data removed]",
            "text/plain": [
              "<Figure size 432x288 with 1 Axes>"
            ]
          },
          "metadata": {
            "tags": [],
            "needs_background": "light"
          }
        }
      ]
    },
    {
      "cell_type": "code",
      "metadata": {
        "id": "M8VYRyJqsM-I"
      },
      "source": [
        "# data augmentation\n",
        "datagen = ImageDataGenerator(\n",
        "        featurewise_center=False,  # set input mean to 0 over the dataset\n",
        "        samplewise_center=False,  # set each sample mean to 0\n",
        "        featurewise_std_normalization=False,  # divide inputs by std of the dataset\n",
        "        samplewise_std_normalization=False,  # divide each input by its std\n",
        "        zca_whitening=False,  # dimesion reduction\n",
        "        rotation_range=5,  # randomly rotate images in the range 5 degrees\n",
        "        zoom_range = 0.1, # Randomly zoom image 10%\n",
        "        width_shift_range=0.1,  # randomly shift images horizontally 10%\n",
        "        height_shift_range=0.1,  # randomly shift images vertically 10%\n",
        "        horizontal_flip=False,  # randomly flip images\n",
        "        vertical_flip=False)  # randomly flip images\n",
        "\n",
        "datagen.fit(X_train)"
      ],
      "execution_count": 99,
      "outputs": []
    },
    {
      "cell_type": "code",
      "metadata": {
        "colab": {
          "base_uri": "https://localhost:8080/"
        },
        "id": "j5H1tZJwr4md",
        "outputId": "223459a1-cf69-4ab5-c79f-6e0014ec28f5"
      },
      "source": [
        "model = Sequential()\n",
        "#\n",
        "model.add(Conv2D(filters = 8, kernel_size = (5,5),padding = 'Same', \n",
        "                 activation ='relu', input_shape = (28,28,1)))\n",
        "model.add(MaxPool2D(pool_size=(2,2)))\n",
        "model.add(Dropout(0.25))\n",
        "#\n",
        "model.add(Conv2D(filters = 16, kernel_size = (3,3),padding = 'Same', \n",
        "                 activation ='relu'))\n",
        "model.add(MaxPool2D(pool_size=(2,2), strides=(2,2)))\n",
        "model.add(Dropout(0.25))\n",
        "# fully connected\n",
        "model.add(Flatten())\n",
        "model.add(Dense(256, activation = \"relu\"))\n",
        "model.add(Dropout(0.5))\n",
        "model.add(Dense(10, activation = \"softmax\"))\n",
        "\n",
        "opt = SGD(learning_rate=0.01, momentum=0.9)\n",
        "model.compile(optimizer = optimizer , loss = \"categorical_crossentropy\", metrics=[\"accuracy\"])\n",
        "\n",
        "history = model.fit(datagen.flow(X_train, y_train, batch_size=250), epochs=20, validation_data=(X_test, y_test))"
      ],
      "execution_count": 102,
      "outputs": [
        {
          "output_type": "stream",
          "text": [
            "Epoch 1/20\n",
            "240/240 [==============================] - 44s 181ms/step - loss: 1.3699 - accuracy: 0.5242 - val_loss: 13.8763 - val_accuracy: 0.9627\n",
            "Epoch 2/20\n",
            "240/240 [==============================] - 43s 179ms/step - loss: 0.3584 - accuracy: 0.8887 - val_loss: 9.6036 - val_accuracy: 0.9730\n",
            "Epoch 3/20\n",
            "240/240 [==============================] - 43s 179ms/step - loss: 0.2701 - accuracy: 0.9175 - val_loss: 8.7458 - val_accuracy: 0.9769\n",
            "Epoch 4/20\n",
            "240/240 [==============================] - 43s 178ms/step - loss: 0.2201 - accuracy: 0.9318 - val_loss: 5.8419 - val_accuracy: 0.9829\n",
            "Epoch 5/20\n",
            "240/240 [==============================] - 43s 178ms/step - loss: 0.2000 - accuracy: 0.9391 - val_loss: 5.1832 - val_accuracy: 0.9836\n",
            "Epoch 6/20\n",
            "240/240 [==============================] - 43s 178ms/step - loss: 0.1741 - accuracy: 0.9473 - val_loss: 5.1118 - val_accuracy: 0.9856\n",
            "Epoch 7/20\n",
            "240/240 [==============================] - 43s 179ms/step - loss: 0.1566 - accuracy: 0.9528 - val_loss: 4.2421 - val_accuracy: 0.9872\n",
            "Epoch 8/20\n",
            "240/240 [==============================] - 43s 178ms/step - loss: 0.1475 - accuracy: 0.9550 - val_loss: 3.8209 - val_accuracy: 0.9874\n",
            "Epoch 9/20\n",
            "240/240 [==============================] - 43s 179ms/step - loss: 0.1340 - accuracy: 0.9592 - val_loss: 3.6738 - val_accuracy: 0.9888\n",
            "Epoch 10/20\n",
            "240/240 [==============================] - 43s 178ms/step - loss: 0.1311 - accuracy: 0.9602 - val_loss: 3.5617 - val_accuracy: 0.9897\n",
            "Epoch 11/20\n",
            "240/240 [==============================] - 43s 179ms/step - loss: 0.1236 - accuracy: 0.9623 - val_loss: 3.3821 - val_accuracy: 0.9891\n",
            "Epoch 12/20\n",
            "240/240 [==============================] - 43s 179ms/step - loss: 0.1232 - accuracy: 0.9631 - val_loss: 3.3311 - val_accuracy: 0.9900\n",
            "Epoch 13/20\n",
            "240/240 [==============================] - 43s 179ms/step - loss: 0.1168 - accuracy: 0.9637 - val_loss: 3.5573 - val_accuracy: 0.9902\n",
            "Epoch 14/20\n",
            "240/240 [==============================] - 43s 179ms/step - loss: 0.1130 - accuracy: 0.9647 - val_loss: 3.2209 - val_accuracy: 0.9897\n",
            "Epoch 15/20\n",
            "240/240 [==============================] - 43s 179ms/step - loss: 0.1112 - accuracy: 0.9652 - val_loss: 2.5244 - val_accuracy: 0.9916\n",
            "Epoch 16/20\n",
            "240/240 [==============================] - 43s 179ms/step - loss: 0.1076 - accuracy: 0.9675 - val_loss: 2.9309 - val_accuracy: 0.9911\n",
            "Epoch 17/20\n",
            "240/240 [==============================] - 43s 178ms/step - loss: 0.0991 - accuracy: 0.9709 - val_loss: 2.9497 - val_accuracy: 0.9921\n",
            "Epoch 18/20\n",
            "240/240 [==============================] - 43s 178ms/step - loss: 0.1045 - accuracy: 0.9675 - val_loss: 2.7634 - val_accuracy: 0.9920\n",
            "Epoch 19/20\n",
            "240/240 [==============================] - 43s 178ms/step - loss: 0.1033 - accuracy: 0.9688 - val_loss: 2.8578 - val_accuracy: 0.9919\n",
            "Epoch 20/20\n",
            "240/240 [==============================] - 43s 178ms/step - loss: 0.0976 - accuracy: 0.9700 - val_loss: 3.0809 - val_accuracy: 0.9912\n"
          ],
          "name": "stdout"
        }
      ]
    },
    {
      "cell_type": "code",
      "metadata": {
        "colab": {
          "base_uri": "https://localhost:8080/",
          "height": 295
        },
        "id": "f0RkwGZf8y_Z",
        "outputId": "b2bd24a9-7702-43ae-b72b-322642641b21"
      },
      "source": [
        "# Plot the loss and accuracy curves for training and validation \n",
        "plt.plot(history.history['val_loss'], color='b', label=\"validation loss\")\n",
        "plt.title(\"Test Loss\")\n",
        "plt.xlabel(\"Number of Epochs\")\n",
        "plt.ylabel(\"Loss\")\n",
        "plt.legend()\n",
        "plt.show()"
      ],
      "execution_count": 104,
      "outputs": [
        {
          "output_type": "display_data",
          "data": {
            "image/png": "[encoded data removed]",
            "text/plain": [
              "<Figure size 432x288 with 1 Axes>"
            ]
          },
          "metadata": {
            "tags": [],
            "needs_background": "light"
          }
        }
      ]
    },
    {
      "cell_type": "code",
      "metadata": {
        "colab": {
          "base_uri": "https://localhost:8080/",
          "height": 513
        },
        "id": "Bxr6kjlisSh_",
        "outputId": "f7a48824-5275-4a8f-e2b4-a3abd979cccd"
      },
      "source": [
        "# confusion matrix\n",
        "# Predict the values from the validation dataset\n",
        "Y_pred = model.predict(X_val)\n",
        "# Convert predictions classes to one hot vectors \n",
        "Y_pred_classes = np.argmax(Y_pred,axis = 1) \n",
        "# Convert validation observations to one hot vectors\n",
        "Y_true = np.argmax(Y_val,axis = 1) \n",
        "# compute the confusion matrix\n",
        "confusion_mtx = confusion_matrix(Y_true, Y_pred_classes) \n",
        "# plot the confusion matrix\n",
        "f,ax = plt.subplots(figsize=(8, 8))\n",
        "sns.heatmap(confusion_mtx, annot=True, linewidths=0.01,cmap=\"Purples\",linecolor=\"gray\", fmt= '.1f',ax=ax)\n",
        "plt.xlabel(\"Predicted Label\")\n",
        "plt.ylabel(\"True Label\")\n",
        "plt.title(\"Confusion Matrix\")\n",
        "plt.show()"
      ],
      "execution_count": 111,
      "outputs": [
        {
          "output_type": "display_data",
          "data": {
            "image/png": "[encoded data removed]",
            "text/plain": [
              "<Figure size 576x576 with 2 Axes>"
            ]
          },
          "metadata": {
            "tags": [],
            "needs_background": "light"
          }
        }
      ]
    }
  ]
}