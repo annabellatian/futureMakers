{
  "nbformat": 4,
  "nbformat_minor": 0,
  "metadata": {
    "colab": {
      "name": "detectingSarcasm.ipynb",
      "provenance": [],
      "mount_file_id": "1Zfz_j7QWMmtsCIp_6Bwqft5cBmzqUSri",
      "authorship_tag": "ABX9TyMuMVyPaoqW0B56Yoa7Lj3s",
      "include_colab_link": true
    },
    "kernelspec": {
      "name": "python3",
      "display_name": "Python 3"
    },
    "language_info": {
      "name": "python"
    }
  },
  "cells": [
    {
      "cell_type": "markdown",
      "metadata": {
        "id": "view-in-github",
        "colab_type": "text"
      },
      "source": [
        "<a href=\"https://colab.research.google.com/github/annabellatian/mitFuturemakers/blob/main/detectingSarcasm/detectingSarcasm.ipynb\" target=\"_parent\"><img src=\"https://colab.research.google.com/assets/colab-badge.svg\" alt=\"Open In Colab\"/></a>"
      ]
    },
    {
      "cell_type": "code",
      "metadata": {
        "id": "3VGhIdDu043i"
      },
      "source": [
        "# import libraries\n",
        "import pandas as pd\n",
        "import seaborn as sns\n",
        "import numpy as np\n",
        "from keras.preprocessing.text import Tokenizer\n",
        "from keras.preprocessing import sequence\n",
        "from sklearn.model_selection import train_test_split\n",
        "from keras.layers import LSTM, Activation, Dense, Dropout, Input, Embedding\n",
        "from keras.optimizers import RMSprop\n",
        "from keras.models import Model\n",
        "import matplotlib.pyplot as plt"
      ],
      "execution_count": 16,
      "outputs": []
    },
    {
      "cell_type": "code",
      "metadata": {
        "colab": {
          "base_uri": "https://localhost:8080/",
          "height": 255
        },
        "id": "vtl5A_u32gDi",
        "outputId": "bdd51efb-5fb2-48ab-837e-9229c842f415"
      },
      "source": [
        "# load the dataset\n",
        "df = pd.read_json('/content/drive/MyDrive/Colab Notebooks/Sarcasm_Headlines_Dataset.json', lines = True)\n",
        "df.head()"
      ],
      "execution_count": 17,
      "outputs": [
        {
          "output_type": "execute_result",
          "data": {
            "text/html": [
              "<div>\n",
              "<style scoped>\n",
              "    .dataframe tbody tr th:only-of-type {\n",
              "        vertical-align: middle;\n",
              "    }\n",
              "\n",
              "    .dataframe tbody tr th {\n",
              "        vertical-align: top;\n",
              "    }\n",
              "\n",
              "    .dataframe thead th {\n",
              "        text-align: right;\n",
              "    }\n",
              "</style>\n",
              "<table border=\"1\" class=\"dataframe\">\n",
              "  <thead>\n",
              "    <tr style=\"text-align: right;\">\n",
              "      <th></th>\n",
              "      <th>article_link</th>\n",
              "      <th>headline</th>\n",
              "      <th>is_sarcastic</th>\n",
              "    </tr>\n",
              "  </thead>\n",
              "  <tbody>\n",
              "    <tr>\n",
              "      <th>0</th>\n",
              "      <td>https://www.huffingtonpost.com/entry/versace-black-code_us_5861fbefe4b0de3a08f600d5</td>\n",
              "      <td>former versace store clerk sues over secret 'black code' for minority shoppers</td>\n",
              "      <td>0</td>\n",
              "    </tr>\n",
              "    <tr>\n",
              "      <th>1</th>\n",
              "      <td>https://www.huffingtonpost.com/entry/roseanne-revival-review_us_5ab3a497e4b054d118e04365</td>\n",
              "      <td>the 'roseanne' revival catches up to our thorny political mood, for better and worse</td>\n",
              "      <td>0</td>\n",
              "    </tr>\n",
              "    <tr>\n",
              "      <th>2</th>\n",
              "      <td>https://local.theonion.com/mom-starting-to-fear-son-s-web-series-closest-thing-she-1819576697</td>\n",
              "      <td>mom starting to fear son's web series closest thing she will have to grandchild</td>\n",
              "      <td>1</td>\n",
              "    </tr>\n",
              "    <tr>\n",
              "      <th>3</th>\n",
              "      <td>https://politics.theonion.com/boehner-just-wants-wife-to-listen-not-come-up-with-alt-1819574302</td>\n",
              "      <td>boehner just wants wife to listen, not come up with alternative debt-reduction ideas</td>\n",
              "      <td>1</td>\n",
              "    </tr>\n",
              "    <tr>\n",
              "      <th>4</th>\n",
              "      <td>https://www.huffingtonpost.com/entry/jk-rowling-wishes-snape-happy-birthday_us_569117c4e4b0cad15e64fdcb</td>\n",
              "      <td>j.k. rowling wishes snape happy birthday in the most magical way</td>\n",
              "      <td>0</td>\n",
              "    </tr>\n",
              "  </tbody>\n",
              "</table>\n",
              "</div>"
            ],
            "text/plain": [
              "                                                                                              article_link  ... is_sarcastic\n",
              "0  https://www.huffingtonpost.com/entry/versace-black-code_us_5861fbefe4b0de3a08f600d5                      ...  0          \n",
              "1  https://www.huffingtonpost.com/entry/roseanne-revival-review_us_5ab3a497e4b054d118e04365                 ...  0          \n",
              "2  https://local.theonion.com/mom-starting-to-fear-son-s-web-series-closest-thing-she-1819576697            ...  1          \n",
              "3  https://politics.theonion.com/boehner-just-wants-wife-to-listen-not-come-up-with-alt-1819574302          ...  1          \n",
              "4  https://www.huffingtonpost.com/entry/jk-rowling-wishes-snape-happy-birthday_us_569117c4e4b0cad15e64fdcb  ...  0          \n",
              "\n",
              "[5 rows x 3 columns]"
            ]
          },
          "metadata": {
            "tags": []
          },
          "execution_count": 17
        }
      ]
    },
    {
      "cell_type": "code",
      "metadata": {
        "colab": {
          "base_uri": "https://localhost:8080/",
          "height": 385
        },
        "id": "f81Ymo5G1Fgc",
        "outputId": "87a84509-74b3-4cf6-daab-9b51e19e80d7"
      },
      "source": [
        "# plot class level distribution\n",
        "sns.set_style(\"dark\")\n",
        "sns.countplot(df.is_sarcastic)"
      ],
      "execution_count": 18,
      "outputs": [
        {
          "output_type": "stream",
          "text": [
            "/usr/local/lib/python3.7/dist-packages/seaborn/_decorators.py:43: FutureWarning:\n",
            "\n",
            "Pass the following variable as a keyword arg: x. From version 0.12, the only valid positional argument will be `data`, and passing other arguments without an explicit keyword will result in an error or misinterpretation.\n",
            "\n"
          ],
          "name": "stderr"
        },
        {
          "output_type": "execute_result",
          "data": {
            "text/plain": [
              "<matplotlib.axes._subplots.AxesSubplot at 0x7f7e485ae650>"
            ]
          },
          "metadata": {
            "tags": []
          },
          "execution_count": 18
        },
        {
          "output_type": "display_data",
          "data": {
            "image/png": "[encoded data removed]",
            "text/plain": [
              "<Figure size 432x288 with 1 Axes>"
            ]
          },
          "metadata": {
            "tags": []
          }
        }
      ]
    },
    {
      "cell_type": "code",
      "metadata": {
        "colab": {
          "base_uri": "https://localhost:8080/"
        },
        "id": "fr6zUv-W3OSx",
        "outputId": "593a3af6-2699-45cd-b1f5-6f00475142e5"
      },
      "source": [
        "df.is_sarcastic.value_counts()"
      ],
      "execution_count": 19,
      "outputs": [
        {
          "output_type": "execute_result",
          "data": {
            "text/plain": [
              "0    14985\n",
              "1    11724\n",
              "Name: is_sarcastic, dtype: int64"
            ]
          },
          "metadata": {
            "tags": []
          },
          "execution_count": 19
        }
      ]
    },
    {
      "cell_type": "code",
      "metadata": {
        "colab": {
          "base_uri": "https://localhost:8080/"
        },
        "id": "tAvdNGaX3SdM",
        "outputId": "4f97eafd-4a92-464e-f26d-b0bae70cc28b"
      },
      "source": [
        "len(df.is_sarcastic)"
      ],
      "execution_count": 20,
      "outputs": [
        {
          "output_type": "execute_result",
          "data": {
            "text/plain": [
              "26709"
            ]
          },
          "metadata": {
            "tags": []
          },
          "execution_count": 20
        }
      ]
    },
    {
      "cell_type": "code",
      "metadata": {
        "colab": {
          "base_uri": "https://localhost:8080/"
        },
        "id": "NhjIB85l3YHK",
        "outputId": "39b4efe1-7e01-4e94-854c-504afcec12f7"
      },
      "source": [
        "# define x and y\n",
        "x = df.iloc[:, 1]\n",
        "y = df.iloc[:, 2]\n",
        "print(y)"
      ],
      "execution_count": 21,
      "outputs": [
        {
          "output_type": "stream",
          "text": [
            "0        0\n",
            "1        0\n",
            "2        1\n",
            "3        1\n",
            "4        0\n",
            "        ..\n",
            "26704    0\n",
            "26705    0\n",
            "26706    0\n",
            "26707    0\n",
            "26708    0\n",
            "Name: is_sarcastic, Length: 26709, dtype: int64\n"
          ],
          "name": "stdout"
        }
      ]
    },
    {
      "cell_type": "code",
      "metadata": {
        "colab": {
          "base_uri": "https://localhost:8080/"
        },
        "id": "CXrYzwJi3kBH",
        "outputId": "1a7c0203-020b-4418-c4d6-23090c21a7f2"
      },
      "source": [
        "# split dataset into train and test\n",
        "x_train, x_test, y_train, y_test = train_test_split(x, y, test_size = 0.2)\n",
        "len(x_train)"
      ],
      "execution_count": 23,
      "outputs": [
        {
          "output_type": "execute_result",
          "data": {
            "text/plain": [
              "21367"
            ]
          },
          "metadata": {
            "tags": []
          },
          "execution_count": 23
        }
      ]
    },
    {
      "cell_type": "code",
      "metadata": {
        "colab": {
          "base_uri": "https://localhost:8080/"
        },
        "id": "0Lxnsi0Z4Faz",
        "outputId": "f8645bcb-c3ba-4693-90e5-098f1cccc96b"
      },
      "source": [
        "# data preprocessing\n",
        "max_words = 1000\n",
        "max_len = 150\n",
        "tok = Tokenizer(num_words = max_words)\n",
        "tok.fit_on_texts(x_train)\n",
        "sequences = tok.texts_to_sequences(x_train)\n",
        "sequences_matrix = sequence.pad_sequences(sequences, maxlen = max_len)\n",
        "sequences_matrix.shape"
      ],
      "execution_count": 24,
      "outputs": [
        {
          "output_type": "execute_result",
          "data": {
            "text/plain": [
              "(21367, 150)"
            ]
          },
          "metadata": {
            "tags": []
          },
          "execution_count": 24
        }
      ]
    },
    {
      "cell_type": "code",
      "metadata": {
        "colab": {
          "base_uri": "https://localhost:8080/"
        },
        "id": "Syok71l04kLX",
        "outputId": "e74d283b-d97a-4133-b7a3-9e2af1fac1cd"
      },
      "source": [
        "sequences_matrix"
      ],
      "execution_count": 25,
      "outputs": [
        {
          "output_type": "execute_result",
          "data": {
            "text/plain": [
              "array([[  0,   0,   0, ...,  12, 551, 495],\n",
              "       [  0,   0,   0, ...,  59,  39,   2],\n",
              "       [  0,   0,   0, ..., 777,  16,   1],\n",
              "       ...,\n",
              "       [  0,   0,   0, ...,   3,  55,   2],\n",
              "       [  0,   0,   0, ...,   0, 125,  15],\n",
              "       [  0,   0,   0, ...,   0,   0,   0]], dtype=int32)"
            ]
          },
          "metadata": {
            "tags": []
          },
          "execution_count": 25
        }
      ]
    },
    {
      "cell_type": "code",
      "metadata": {
        "colab": {
          "base_uri": "https://localhost:8080/"
        },
        "id": "Y89wU3wM4mdG",
        "outputId": "661827ec-89ef-496b-9762-dc2ddbf140d4"
      },
      "source": [
        "np.amax(sequences_matrix)"
      ],
      "execution_count": 26,
      "outputs": [
        {
          "output_type": "execute_result",
          "data": {
            "text/plain": [
              "999"
            ]
          },
          "metadata": {
            "tags": []
          },
          "execution_count": 26
        }
      ]
    },
    {
      "cell_type": "code",
      "metadata": {
        "id": "dqzMLLd18SUE"
      },
      "source": [
        "def RNN():\n",
        "    inputs = Input(name='inputs', shape=[max_len])\n",
        "    layer = Embedding(max_words, 50, input_length=max_len)(inputs)\n",
        "    layer = LSTM(64)(layer)\n",
        "    layer = Dense(256, name='FC1')(layer)\n",
        "    layer = Activation('relu')(layer)\n",
        "    layer = Dropout(0.2)(layer)\n",
        "    layer = Dense(1, name='out_layer')(layer)\n",
        "    layer = Activation('sigmoid')(layer)\n",
        "    model = Model(inputs=inputs, outputs=layer)\n",
        "    return model"
      ],
      "execution_count": 27,
      "outputs": []
    },
    {
      "cell_type": "code",
      "metadata": {
        "id": "ZMEOYMnq8WMA",
        "colab": {
          "base_uri": "https://localhost:8080/"
        },
        "outputId": "16e44fcc-18b9-4565-fe57-5897fe4a9788"
      },
      "source": [
        "# compile the model\n",
        "model = RNN()\n",
        "model.summary()\n",
        "model.compile(loss = 'binary_crossentropy', optimizer=RMSprop(), metrics=['accuracy'])"
      ],
      "execution_count": 28,
      "outputs": [
        {
          "output_type": "stream",
          "text": [
            "Model: \"model\"\n",
            "_________________________________________________________________\n",
            "Layer (type)                 Output Shape              Param #   \n",
            "=================================================================\n",
            "inputs (InputLayer)          [(None, 150)]             0         \n",
            "_________________________________________________________________\n",
            "embedding (Embedding)        (None, 150, 50)           50000     \n",
            "_________________________________________________________________\n",
            "lstm (LSTM)                  (None, 64)                29440     \n",
            "_________________________________________________________________\n",
            "FC1 (Dense)                  (None, 256)               16640     \n",
            "_________________________________________________________________\n",
            "activation (Activation)      (None, 256)               0         \n",
            "_________________________________________________________________\n",
            "dropout (Dropout)            (None, 256)               0         \n",
            "_________________________________________________________________\n",
            "out_layer (Dense)            (None, 1)                 257       \n",
            "_________________________________________________________________\n",
            "activation_1 (Activation)    (None, 1)                 0         \n",
            "=================================================================\n",
            "Total params: 96,337\n",
            "Trainable params: 96,337\n",
            "Non-trainable params: 0\n",
            "_________________________________________________________________\n"
          ],
          "name": "stdout"
        }
      ]
    },
    {
      "cell_type": "code",
      "metadata": {
        "colab": {
          "base_uri": "https://localhost:8080/"
        },
        "id": "enW5UPfK49kL",
        "outputId": "11ec7887-d397-467e-a7e6-f0cc633514bf"
      },
      "source": [
        "# fit the model\n",
        "history = model.fit(sequences_matrix, y_train, batch_size = 100, epochs = 5, validation_split = 0.1)\n"
      ],
      "execution_count": 31,
      "outputs": [
        {
          "output_type": "stream",
          "text": [
            "Epoch 1/5\n",
            "193/193 [==============================] - 47s 145ms/step - loss: 0.5580 - accuracy: 0.6940 - val_loss: 0.4023 - val_accuracy: 0.8138\n",
            "Epoch 2/5\n",
            "193/193 [==============================] - 27s 141ms/step - loss: 0.3956 - accuracy: 0.8217 - val_loss: 0.3829 - val_accuracy: 0.8217\n",
            "Epoch 3/5\n",
            "193/193 [==============================] - 27s 142ms/step - loss: 0.3608 - accuracy: 0.8370 - val_loss: 0.3785 - val_accuracy: 0.8226\n",
            "Epoch 4/5\n",
            "193/193 [==============================] - 27s 142ms/step - loss: 0.3451 - accuracy: 0.8486 - val_loss: 0.3709 - val_accuracy: 0.8259\n",
            "Epoch 5/5\n",
            "193/193 [==============================] - 27s 141ms/step - loss: 0.6014 - accuracy: 0.8000 - val_loss: 0.3896 - val_accuracy: 0.8203\n"
          ],
          "name": "stdout"
        }
      ]
    },
    {
      "cell_type": "code",
      "metadata": {
        "colab": {
          "base_uri": "https://localhost:8080/"
        },
        "id": "GGTickgW5ZLX",
        "outputId": "c84f4631-ab84-4659-cf8b-5119f5369636"
      },
      "source": [
        "# evaluate on test set\n",
        "test_sequences = tok.texts_to_sequences(x_test)\n",
        "test_sequences_matrix = sequence.pad_sequences(test_sequences, maxlen = max_len)\n",
        "test_sequences_matrix.shape"
      ],
      "execution_count": 32,
      "outputs": [
        {
          "output_type": "execute_result",
          "data": {
            "text/plain": [
              "(5342, 150)"
            ]
          },
          "metadata": {
            "tags": []
          },
          "execution_count": 32
        }
      ]
    },
    {
      "cell_type": "code",
      "metadata": {
        "colab": {
          "base_uri": "https://localhost:8080/"
        },
        "id": "DLTi_bho5tbC",
        "outputId": "dc99deab-ba78-4d92-f733-1b0e6185995b"
      },
      "source": [
        "accr = model.evaluate(test_sequences_matrix, y_test)\n",
        "print('Test set\\nLoss: {:0.3f}\\nAccuracy: {:0.3f}'.format(accr[0], accr[1]))"
      ],
      "execution_count": 33,
      "outputs": [
        {
          "output_type": "stream",
          "text": [
            "167/167 [==============================] - 3s 20ms/step - loss: 0.3961 - accuracy: 0.8149\n",
            "Test set\n",
            "Loss: 0.396\n",
            "Accuracy: 0.815\n"
          ],
          "name": "stdout"
        }
      ]
    },
    {
      "cell_type": "code",
      "metadata": {
        "id": "NuXmdXRN8gEE",
        "colab": {
          "base_uri": "https://localhost:8080/",
          "height": 573
        },
        "outputId": "289aa9b5-b103-4808-96aa-50a38421717e"
      },
      "source": [
        "# plot the accuracy and loss curves\n",
        "fig = plt.figure()\n",
        "plt.plot(history.history['accuracy'])\n",
        "plt.plot(history.history['val_accuracy'])\n",
        "plt.title('model accuracy')\n",
        "plt.grid()\n",
        "plt.ylabel('accuracy')\n",
        "plt.xlabel('epoch')\n",
        "plt.legend(['train', 'validation'], loc='upper left')\n",
        "plt.show()\n",
        "\n",
        "fig = plt.figure()\n",
        "plt.plot(history.history['loss'])\n",
        "plt.plot(history.history['val_loss'])\n",
        "plt.title('model loss')\n",
        "plt.grid()\n",
        "plt.ylabel('loss')\n",
        "plt.xlabel('epoch')\n",
        "plt.legend(['train', 'validation'], loc='upper left')\n",
        "plt.show()"
      ],
      "execution_count": 34,
      "outputs": [
        {
          "output_type": "display_data",
          "data": {
            "image/png": "[encoded data removed]",
            "text/plain": [
              "<Figure size 432x288 with 1 Axes>"
            ]
          },
          "metadata": {
            "tags": []
          }
        },
        {
          "output_type": "display_data",
          "data": {
            "image/png": "[encoded data removed]",
            "text/plain": [
              "<Figure size 432x288 with 1 Axes>"
            ]
          },
          "metadata": {
            "tags": []
          }
        }
      ]
    }
  ]
}